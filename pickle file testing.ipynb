{
 "cells": [
  {
   "cell_type": "code",
   "execution_count": 8,
   "id": "411839ae",
   "metadata": {},
   "outputs": [],
   "source": [
    "# testing on pickle\n",
    "import pandas as pd\n",
    "import numpy as np"
   ]
  },
  {
   "cell_type": "code",
   "execution_count": 20,
   "id": "7d9601da",
   "metadata": {},
   "outputs": [
    {
     "data": {
      "text/plain": [
       "Serial No.             4.00\n",
       "GRE Score            322.00\n",
       "TOEFL Score          110.00\n",
       "University Rating      3.00\n",
       "SOP                    3.50\n",
       "LOR                    2.50\n",
       "CGPA                   8.67\n",
       "Research               1.00\n",
       "Chance of Admit        0.80\n",
       "Name: 3, dtype: float64"
      ]
     },
     "execution_count": 20,
     "metadata": {},
     "output_type": "execute_result"
    }
   ],
   "source": [
    "df1=pd.read_csv(\"C:\\Ragini\\Admission_Prediction.csv\")\n",
    "df1.iloc[3,:]"
   ]
  },
  {
   "cell_type": "code",
   "execution_count": 3,
   "id": "b06fcf02",
   "metadata": {},
   "outputs": [],
   "source": [
    "import pickle"
   ]
  },
  {
   "cell_type": "code",
   "execution_count": 4,
   "id": "e1d12b2d",
   "metadata": {},
   "outputs": [],
   "source": [
    "with open(\"linear_model.pkl\",'rb') as f:\n",
    "    data=pickle.load(f)\n",
    "    data"
   ]
  },
  {
   "cell_type": "code",
   "execution_count": 21,
   "id": "8d20d8c7",
   "metadata": {},
   "outputs": [],
   "source": [
    "GRE_Score = 322.0\n",
    "TOEFL_Score = 110.0\n",
    "University_Rating = 3.0\n",
    "SOP = 3\n",
    "LOR = 2.50\n",
    "CGPA = 8.67\n",
    "Research = 1"
   ]
  },
  {
   "cell_type": "code",
   "execution_count": 22,
   "id": "aa4132d4",
   "metadata": {},
   "outputs": [
    {
     "data": {
      "text/plain": [
       "array([322.  , 110.  ,   3.  ,   3.  ,   2.5 ,   8.67,   1.  ])"
      ]
     },
     "execution_count": 22,
     "metadata": {},
     "output_type": "execute_result"
    }
   ],
   "source": [
    "test_array=np.zeros(7)\n",
    "test_array[0]=GRE_Score\n",
    "test_array[1]=TOEFL_Score\n",
    "test_array[2]=University_Rating\n",
    "test_array[3]=SOP\n",
    "test_array[4]=LOR\n",
    "test_array[5]=CGPA\n",
    "test_array[6]=Research\n",
    "test_array"
   ]
  },
  {
   "cell_type": "code",
   "execution_count": 23,
   "id": "568af7ec",
   "metadata": {},
   "outputs": [
    {
     "name": "stderr",
     "output_type": "stream",
     "text": [
      "C:\\Users\\hp\\anaconda3\\lib\\site-packages\\sklearn\\base.py:450: UserWarning: X does not have valid feature names, but LinearRegression was fitted with feature names\n",
      "  warnings.warn(\n"
     ]
    },
    {
     "data": {
      "text/plain": [
       "array([0.74212539])"
      ]
     },
     "execution_count": 23,
     "metadata": {},
     "output_type": "execute_result"
    }
   ],
   "source": [
    "data.predict([test_array])"
   ]
  },
  {
   "cell_type": "code",
   "execution_count": null,
   "id": "b07f4ab9",
   "metadata": {},
   "outputs": [],
   "source": []
  }
 ],
 "metadata": {
  "kernelspec": {
   "display_name": "Python 3.10.8 64-bit",
   "language": "python",
   "name": "python3"
  },
  "language_info": {
   "codemirror_mode": {
    "name": "ipython",
    "version": 3
   },
   "file_extension": ".py",
   "mimetype": "text/x-python",
   "name": "python",
   "nbconvert_exporter": "python",
   "pygments_lexer": "ipython3",
   "version": "3.10.8"
  },
  "vscode": {
   "interpreter": {
    "hash": "26de051ba29f2982a8de78e945f0abaf191376122a1563185a90213a26c5da77"
   }
  }
 },
 "nbformat": 4,
 "nbformat_minor": 5
}
